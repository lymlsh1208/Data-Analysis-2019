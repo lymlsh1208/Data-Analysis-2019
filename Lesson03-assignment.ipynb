{
 "cells": [
  {
   "cell_type": "code",
   "execution_count": 2,
   "metadata": {},
   "outputs": [],
   "source": [
    "from sklearn.datasets import load_boston\n",
    "data = load_boston()\n",
    "x,y = data['data'],data['target']"
   ]
  },
  {
   "cell_type": "code",
   "execution_count": 3,
   "metadata": {},
   "outputs": [
    {
     "data": {
      "text/plain": [
       "(506, 13)"
      ]
     },
     "execution_count": 3,
     "metadata": {},
     "output_type": "execute_result"
    }
   ],
   "source": [
    "x.shape"
   ]
  },
  {
   "cell_type": "code",
   "execution_count": 4,
   "metadata": {},
   "outputs": [],
   "source": [
    "from matplotlib import pyplot as plt"
   ]
  },
  {
   "cell_type": "code",
   "execution_count": 5,
   "metadata": {},
   "outputs": [],
   "source": [
    "%matplotlib inline"
   ]
  },
  {
   "cell_type": "code",
   "execution_count": 6,
   "metadata": {},
   "outputs": [
    {
     "data": {
      "text/plain": [
       "<matplotlib.collections.PathCollection at 0x1ea88a94828>"
      ]
     },
     "execution_count": 6,
     "metadata": {},
     "output_type": "execute_result"
    },
    {
     "data": {
      "image/png": "[encoded data removed]",
      "text/plain": [
       "<Figure size 432x288 with 1 Axes>"
      ]
     },
     "metadata": {
      "needs_background": "light"
     },
     "output_type": "display_data"
    }
   ],
   "source": [
    "plt.scatter(x[:,5],y)"
   ]
  },
  {
   "cell_type": "code",
   "execution_count": 7,
   "metadata": {},
   "outputs": [],
   "source": [
    "def price_by_randomkb(xm,k,b):\n",
    "    return k*xm+b"
   ]
  },
  {
   "cell_type": "code",
   "execution_count": 8,
   "metadata": {},
   "outputs": [
    {
     "data": {
      "text/plain": [
       "5"
      ]
     },
     "execution_count": 8,
     "metadata": {},
     "output_type": "execute_result"
    }
   ],
   "source": [
    "abs(-5)"
   ]
  },
  {
   "cell_type": "code",
   "execution_count": 12,
   "metadata": {},
   "outputs": [
    {
     "data": {
      "text/plain": [
       "1"
      ]
     },
     "execution_count": 12,
     "metadata": {},
     "output_type": "execute_result"
    }
   ],
   "source": [
    "sum([-4,5])"
   ]
  },
  {
   "cell_type": "code",
   "execution_count": 8,
   "metadata": {},
   "outputs": [],
   "source": [
    "def loss(y,y_hat):\n",
    "    return sum(abs(y_i-y_hat_i) for y_i,y_hat_i in zip(list(y),list(y_hat)))/len(list(y)) "
   ]
  },
  {
   "cell_type": "markdown",
   "metadata": {},
   "source": [
    "# #使用绝对值损失函数，并求出partial_k,partial_b"
   ]
  },
  {
   "cell_type": "code",
   "execution_count": 28,
   "metadata": {},
   "outputs": [],
   "source": [
    "import numpy as np\n",
    "def partial_k(x,y,y_hat):\n",
    "    m = len(list(y))\n",
    "    gradient = 0\n",
    "    for x_i,y_i,y_hat_i in zip(list(x),list(y),list(y_hat)):\n",
    "        sign_y = np.sign(y_hat_i-y_i)\n",
    "        gradient = gradient+ sign_y*x_i\n",
    "    return gradient/m"
   ]
  },
  {
   "cell_type": "code",
   "execution_count": 29,
   "metadata": {},
   "outputs": [
    {
     "data": {
      "text/plain": [
       "6.284634387351787"
      ]
     },
     "execution_count": 29,
     "metadata": {},
     "output_type": "execute_result"
    }
   ],
   "source": [
    "partial_k(x[:,5],y,[price_by_randomkb(x,100,45) for x in x[:,5]])"
   ]
  },
  {
   "cell_type": "code",
   "execution_count": 31,
   "metadata": {},
   "outputs": [
    {
     "data": {
      "text/plain": [
       "1.0"
      ]
     },
     "execution_count": 31,
     "metadata": {},
     "output_type": "execute_result"
    }
   ],
   "source": [
    "partial_b(x[:,5],y,[price_by_randomkb(x,9,30) for x in x[:,5]])"
   ]
  },
  {
   "cell_type": "code",
   "execution_count": 30,
   "metadata": {},
   "outputs": [],
   "source": [
    "def partial_b(x,y,y_hat):\n",
    "    m = len(y)\n",
    "    gradient = 0\n",
    "    for y_i,y_hat_i in zip(list(y),list(y_hat)):\n",
    "        sign_y = np.sign(y_hat_i-y_i)\n",
    "        gradient = gradient+ sign_y\n",
    "    return gradient/len(list(y))\n",
    "    "
   ]
  },
  {
   "cell_type": "code",
   "execution_count": 38,
   "metadata": {},
   "outputs": [
    {
     "name": "stdout",
     "output_type": "stream",
     "text": [
      "when time is 0,get best_k:-66.87802907812004,best_b:-63.1519778994197,and the loss is 505.98874552619594\n",
      "when time is 50,get best_k:-63.7357118844442,best_b:-62.6519778994198,and the loss is 485.7404308348537\n",
      "when time is 100,get best_k:-60.59339469076836,best_b:-62.1519778994199,and the loss is 465.4921161435114\n",
      "when time is 150,get best_k:-57.45107749709253,best_b:-61.65197789942,and the loss is 445.2438014521699\n",
      "when time is 200,get best_k:-54.30876030341669,best_b:-61.151977899420096,and the loss is 424.9954867608284\n",
      "when time is 250,get best_k:-51.166443109740854,best_b:-60.651977899420196,and the loss is 404.7471720694869\n",
      "when time is 300,get best_k:-48.02412591606502,best_b:-60.151977899420295,and the loss is 384.49885737814475\n",
      "when time is 350,get best_k:-44.88180872238918,best_b:-59.651977899420395,and the loss is 364.25054268680293\n",
      "when time is 400,get best_k:-41.739491528713344,best_b:-59.151977899420494,and the loss is 344.00222799546117\n",
      "when time is 450,get best_k:-38.59717433503751,best_b:-58.651977899420594,and the loss is 323.75391330411964\n",
      "when time is 500,get best_k:-35.45485714136167,best_b:-58.15197789942069,and the loss is 303.5055986127777\n",
      "when time is 550,get best_k:-32.312539947685835,best_b:-57.65197789942079,and the loss is 283.2572839214359\n",
      "when time is 600,get best_k:-29.17022275401,best_b:-57.15197789942089,and the loss is 263.00896923009424\n",
      "when time is 650,get best_k:-26.027905560334162,best_b:-56.65197789942099,and the loss is 242.76065453875242\n",
      "when time is 700,get best_k:-22.885588366658325,best_b:-56.15197789942109,and the loss is 222.51233984741054\n",
      "when time is 750,get best_k:-19.74327117298249,best_b:-55.65197789942119,and the loss is 202.26402515606867\n",
      "when time is 800,get best_k:-16.600953979306652,best_b:-55.15197789942129,and the loss is 182.01571046472677\n",
      "when time is 850,get best_k:-13.458636785630743,best_b:-54.65197789942139,and the loss is 161.7673957733846\n",
      "when time is 900,get best_k:-10.316319591954818,best_b:-54.15197789942149,and the loss is 141.5190810820423\n",
      "when time is 950,get best_k:-7.174002398278905,best_b:-53.65197789942159,and the loss is 121.2707663907\n",
      "when time is 1000,get best_k:-4.031685204603024,best_b:-53.15197789942169,and the loss is 101.02245169935794\n",
      "when time is 1050,get best_k:-0.8893680109271247,best_b:-52.65197789942179,and the loss is 80.77413700801576\n",
      "when time is 1100,get best_k:2.2529491827487687,best_b:-52.15197789942189,and the loss is 60.525822316673576\n",
      "when time is 1150,get best_k:5.395266376424662,best_b:-51.651977899421986,and the loss is 40.2775076253314\n",
      "when time is 1200,get best_k:8.536542463381181,best_b:-51.15209647649718,and the loss is 20.043359412446225\n",
      "when time is 1250,get best_k:11.169828787491856,best_b:-50.73083165436278,and the loss is 5.511253751921746\n",
      "when time is 1300,get best_k:11.648725467333744,best_b:-50.64644430258414,and the loss is 4.544729559021732\n",
      "when time is 1350,get best_k:11.655782977215157,best_b:-50.6363257255089,and the loss is 4.544391316103886\n",
      "when time is 1400,get best_k:11.66076088235349,best_b:-50.626523353967244,and the loss is 4.544145273395095\n",
      "when time is 1450,get best_k:11.659397878400915,best_b:-50.6177091247182,and the loss is 4.543986299893554\n",
      "when time is 1500,get best_k:11.65803487444834,best_b:-50.60889489546916,and the loss is 4.5438273263920195\n",
      "when time is 1550,get best_k:11.656671870495765,best_b:-50.60008066622012,and the loss is 4.543668352890479\n",
      "when time is 1600,get best_k:11.65530886654319,best_b:-50.59126643697108,and the loss is 4.543509379388938\n",
      "when time is 1650,get best_k:11.65369222622698,best_b:-50.58249173341375,and the loss is 4.5433503394987165\n",
      "when time is 1700,get best_k:11.652329222274405,best_b:-50.573677504164706,and the loss is 4.543191097883008\n",
      "when time is 1750,get best_k:11.65096621832183,best_b:-50.564863274915666,and the loss is 4.543031856267295\n",
      "when time is 1800,get best_k:11.649603214369256,best_b:-50.556049045666626,and the loss is 4.542872614651586\n",
      "when time is 1850,get best_k:11.648240210416681,best_b:-50.547234816417586,and the loss is 4.542713373035875\n",
      "when time is 1900,get best_k:11.646877206464106,best_b:-50.538420587168545,and the loss is 4.5425541314201645\n",
      "when time is 1950,get best_k:11.645514202511531,best_b:-50.529606357919505,and the loss is 4.542394889804455\n",
      "when time is 2000,get best_k:11.644151198558957,best_b:-50.520792128670465,and the loss is 4.542235648188741\n",
      "when time is 2050,get best_k:11.642788194606382,best_b:-50.511977899421424,and the loss is 4.542076406573035\n",
      "when time is 2100,get best_k:11.641425190653807,best_b:-50.503163670172384,and the loss is 4.541917164957318\n",
      "when time is 2150,get best_k:11.640062186701233,best_b:-50.494349440923344,and the loss is 4.541757923341612\n",
      "when time is 2200,get best_k:11.638699182748658,best_b:-50.4855352116743,and the loss is 4.541598681725901\n",
      "when time is 2250,get best_k:11.637336178796083,best_b:-50.47672098242526,and the loss is 4.541439698121686\n",
      "when time is 2300,get best_k:11.635973174843508,best_b:-50.46790675317622,and the loss is 4.541280724620147\n",
      "when time is 2350,get best_k:11.634610170890934,best_b:-50.45909252392718,and the loss is 4.541121751118608\n",
      "when time is 2400,get best_k:11.633247166938359,best_b:-50.45027829467814,and the loss is 4.540962777617066\n",
      "when time is 2450,get best_k:11.631884162985784,best_b:-50.4414640654291,and the loss is 4.54080380411553\n",
      "when time is 2500,get best_k:11.63052115903321,best_b:-50.43264983618006,and the loss is 4.540644830613991\n",
      "when time is 2550,get best_k:11.629158155080635,best_b:-50.42383560693102,and the loss is 4.540485857112451\n",
      "when time is 2600,get best_k:11.62779515112806,best_b:-50.41502137768198,and the loss is 4.540326883610911\n",
      "when time is 2650,get best_k:11.626432147175485,best_b:-50.40620714843294,and the loss is 4.540167910109369\n",
      "when time is 2700,get best_k:11.62506914322291,best_b:-50.3973929191839,and the loss is 4.540008936607831\n",
      "when time is 2750,get best_k:11.623706139270336,best_b:-50.38857868993486,and the loss is 4.539849963106295\n",
      "when time is 2800,get best_k:11.622343135317761,best_b:-50.37976446068582,and the loss is 4.539690989604753\n",
      "when time is 2850,get best_k:11.620980131365187,best_b:-50.37095023143678,and the loss is 4.539532016103215\n",
      "when time is 2900,get best_k:11.619363491048976,best_b:-50.362175527879444,and the loss is 4.539372862727235\n",
      "when time is 2950,get best_k:11.6180004870964,best_b:-50.353361298630404,and the loss is 4.5392136211115295\n"
     ]
    }
   ],
   "source": [
    "import random\n",
    "trying_times = 3000\n",
    "learning_rate = 0.01\n",
    "current_k = random.random()*100-100\n",
    "current_b = random.random()*100-100\n",
    "min_loss = float('inf')\n",
    "update_time = 0\n",
    "for i in range(trying_times):\n",
    "    price = [price_by_randomkb(x,current_k,current_b) for x in x[:,5]]\n",
    "    current_loss = loss(y,price)\n",
    "    if current_loss<min_loss:\n",
    "        min_loss = current_loss\n",
    "        if i%50 == 0:\n",
    "            print('when time is {},get best_k:{},best_b:{},and the loss is {}'.format(i,current_k,current_b,current_loss))\n",
    "    k_gradient = partial_k(x[:,5],y,price)\n",
    "    b_gradient = partial_b(x[:,5],y,price)\n",
    "    current_k = current_k +(-1*k_gradient)*learning_rate\n",
    "    current_b = current_b +(-1*b_gradient)*learning_rate"
   ]
  },
  {
   "cell_type": "code",
   "execution_count": 39,
   "metadata": {},
   "outputs": [
    {
     "data": {
      "image/png": "[encoded data removed]",
      "text/plain": [
       "<Figure size 432x288 with 1 Axes>"
      ]
     },
     "metadata": {
      "needs_background": "light"
     },
     "output_type": "display_data"
    }
   ],
   "source": [
    "plt.scatter(x[:,5],y)\n",
    "plt.plot(x[:,5],[11.6*x-50 for x in x[:,5]],'r')\n",
    "plt.show()"
   ]
  },
  {
   "cell_type": "code",
   "execution_count": 48,
   "metadata": {},
   "outputs": [],
   "source": [
    "def edit_dist(str1,str2):\n",
    "    m,n = len(str1),len(str2)\n",
    "    dp = [[0 for x in range(n+1)] for x in range(m+1)]\n",
    "    for i in range(m+1):\n",
    "        for j in range(n+1):\n",
    "            if i == 0:\n",
    "                dp[i][j] = j\n",
    "            elif j == 0:\n",
    "                dp[i][j] = i\n",
    "            elif str1[i-1] == str2[j-1]:\n",
    "                dp[i][j] = dp[i-1][j-1]\n",
    "            else:\n",
    "                dp[i][j] = min(dp[i-1][j]+1,dp[i][j-1]+1,dp[i-1][j-1]+1)\n",
    "    return dp[m][n]"
   ]
  },
  {
   "cell_type": "code",
   "execution_count": 49,
   "metadata": {},
   "outputs": [
    {
     "data": {
      "text/plain": [
       "2"
      ]
     },
     "execution_count": 49,
     "metadata": {},
     "output_type": "execute_result"
    }
   ],
   "source": [
    "edit_dist('ABCDEF','ABCCE')"
   ]
  },
  {
   "cell_type": "code",
   "execution_count": 50,
   "metadata": {},
   "outputs": [
    {
     "data": {
      "text/plain": [
       "3"
      ]
     },
     "execution_count": 50,
     "metadata": {},
     "output_type": "execute_result"
    }
   ],
   "source": [
    "edit_dist('山东烟台大樱桃','烟台樱桃')"
   ]
  },
  {
   "cell_type": "markdown",
   "metadata": {},
   "source": [
    "# parse solution of Edit distance"
   ]
  },
  {
   "cell_type": "code",
   "execution_count": 51,
   "metadata": {},
   "outputs": [],
   "source": [
    "from functools import wraps"
   ]
  },
  {
   "cell_type": "code",
   "execution_count": 69,
   "metadata": {},
   "outputs": [],
   "source": [
    "solution = {}\n",
    "def lru_cache(func):\n",
    "    cache = {}\n",
    "    @wraps(func)\n",
    "    def _wrap(str1,str2):\n",
    "        if (str1,str2) in cache:\n",
    "            result = cache[(str1,str2)]\n",
    "        else:\n",
    "            result = func(str1,str2)\n",
    "            cache[(str1,str2)] = result\n",
    "        return result\n",
    "    return _wrap"
   ]
  },
  {
   "cell_type": "code",
   "execution_count": 71,
   "metadata": {},
   "outputs": [],
   "source": [
    "@lru_cache\n",
    "def edit_distance(str1,str2):\n",
    "    if len(str1)== 0:\n",
    "        return len(str2)\n",
    "    if len(str2) == 0:\n",
    "        return len(str1)\n",
    "    tail_s1 = str1[-1]\n",
    "    tail_s2 = str2[-1]\n",
    "    candidates = [(edit_distance(str1[:-1],str2)+1,'DEL {}'.format(tail_s1)),(edit_distance(str1,str2[:-1])+1,'ADD {}'.format(tail_s2))]\n",
    "    if tail_s1 == tail_s2:\n",
    "        both_forward = (edit_distance(str1[:-1],str2[:-1])+0,'')\n",
    "    else:\n",
    "        both_forward = (edit_distance(str1[:-1],str2[:-1])+1,'SUB {}=> {}'.format(str1[-1],str2[-1]))\n",
    "    candidates.append(both_forward)\n",
    "    min_distance,operation = min(candidates,key = lambda x: x[0])\n",
    "    solution[(str1,str2)] = operation\n",
    "    return min_distance"
   ]
  },
  {
   "cell_type": "code",
   "execution_count": 72,
   "metadata": {},
   "outputs": [
    {
     "data": {
      "text/plain": [
       "2"
      ]
     },
     "execution_count": 72,
     "metadata": {},
     "output_type": "execute_result"
    }
   ],
   "source": [
    "edit_distance('ABCCEF','ABCDF')"
   ]
  },
  {
   "cell_type": "code",
   "execution_count": 73,
   "metadata": {},
   "outputs": [
    {
     "data": {
      "text/plain": [
       "2"
      ]
     },
     "execution_count": 73,
     "metadata": {},
     "output_type": "execute_result"
    }
   ],
   "source": [
    "edit_distance('ABCDE','ABCCEF')"
   ]
  },
  {
   "cell_type": "code",
   "execution_count": 74,
   "metadata": {},
   "outputs": [
    {
     "data": {
      "text/plain": [
       "{('A', 'A'): '',\n",
       " ('A', 'AB'): 'ADD B',\n",
       " ('A', 'ABC'): 'ADD C',\n",
       " ('A', 'ABCD'): 'ADD D',\n",
       " ('A', 'ABCDF'): 'ADD F',\n",
       " ('AB', 'A'): 'DEL B',\n",
       " ('AB', 'AB'): '',\n",
       " ('AB', 'ABC'): 'ADD C',\n",
       " ('AB', 'ABCD'): 'ADD D',\n",
       " ('AB', 'ABCDF'): 'ADD F',\n",
       " ('ABC', 'A'): 'DEL C',\n",
       " ('ABC', 'AB'): 'DEL C',\n",
       " ('ABC', 'ABC'): '',\n",
       " ('ABC', 'ABCD'): 'ADD D',\n",
       " ('ABC', 'ABCDF'): 'ADD F',\n",
       " ('ABCC', 'A'): 'DEL C',\n",
       " ('ABCC', 'AB'): 'DEL C',\n",
       " ('ABCC', 'ABC'): 'DEL C',\n",
       " ('ABCC', 'ABCD'): 'SUB C=> D',\n",
       " ('ABCC', 'ABCDF'): 'ADD F',\n",
       " ('ABCCE', 'A'): 'DEL E',\n",
       " ('ABCCE', 'AB'): 'DEL E',\n",
       " ('ABCCE', 'ABC'): 'DEL E',\n",
       " ('ABCCE', 'ABCD'): 'DEL E',\n",
       " ('ABCCE', 'ABCDF'): 'SUB E=> F',\n",
       " ('ABCCEF', 'A'): 'DEL F',\n",
       " ('ABCCEF', 'AB'): 'DEL F',\n",
       " ('ABCCEF', 'ABC'): 'DEL F',\n",
       " ('ABCCEF', 'ABCD'): 'DEL F',\n",
       " ('ABCCEF', 'ABCDF'): '',\n",
       " ('A', 'ABCC'): 'ADD C',\n",
       " ('A', 'ABCCE'): 'ADD E',\n",
       " ('A', 'ABCCEF'): 'ADD F',\n",
       " ('AB', 'ABCC'): 'ADD C',\n",
       " ('AB', 'ABCCE'): 'ADD E',\n",
       " ('AB', 'ABCCEF'): 'ADD F',\n",
       " ('ABC', 'ABCC'): 'ADD C',\n",
       " ('ABC', 'ABCCE'): 'ADD E',\n",
       " ('ABC', 'ABCCEF'): 'ADD F',\n",
       " ('ABCD', 'A'): 'DEL D',\n",
       " ('ABCD', 'AB'): 'DEL D',\n",
       " ('ABCD', 'ABC'): 'DEL D',\n",
       " ('ABCD', 'ABCC'): 'SUB D=> C',\n",
       " ('ABCD', 'ABCCE'): 'ADD E',\n",
       " ('ABCD', 'ABCCEF'): 'ADD F',\n",
       " ('ABCDE', 'A'): 'DEL E',\n",
       " ('ABCDE', 'AB'): 'DEL E',\n",
       " ('ABCDE', 'ABC'): 'DEL E',\n",
       " ('ABCDE', 'ABCC'): 'DEL E',\n",
       " ('ABCDE', 'ABCCE'): '',\n",
       " ('ABCDE', 'ABCCEF'): 'ADD F'}"
      ]
     },
     "execution_count": 74,
     "metadata": {},
     "output_type": "execute_result"
    }
   ],
   "source": [
    "solution"
   ]
  },
  {
   "cell_type": "code",
   "execution_count": 75,
   "metadata": {},
   "outputs": [
    {
     "data": {
      "text/plain": [
       "2"
      ]
     },
     "execution_count": 75,
     "metadata": {},
     "output_type": "execute_result"
    }
   ],
   "source": [
    "edit_distance('1010','11100')"
   ]
  },
  {
   "cell_type": "code",
   "execution_count": 76,
   "metadata": {},
   "outputs": [
    {
     "data": {
      "text/plain": [
       "3"
      ]
     },
     "execution_count": 76,
     "metadata": {},
     "output_type": "execute_result"
    }
   ],
   "source": [
    "edit_distance('beijing','biejin')"
   ]
  },
  {
   "cell_type": "code",
   "execution_count": 77,
   "metadata": {},
   "outputs": [
    {
     "data": {
      "text/plain": [
       "{('A', 'A'): '',\n",
       " ('A', 'AB'): 'ADD B',\n",
       " ('A', 'ABC'): 'ADD C',\n",
       " ('A', 'ABCD'): 'ADD D',\n",
       " ('A', 'ABCDF'): 'ADD F',\n",
       " ('AB', 'A'): 'DEL B',\n",
       " ('AB', 'AB'): '',\n",
       " ('AB', 'ABC'): 'ADD C',\n",
       " ('AB', 'ABCD'): 'ADD D',\n",
       " ('AB', 'ABCDF'): 'ADD F',\n",
       " ('ABC', 'A'): 'DEL C',\n",
       " ('ABC', 'AB'): 'DEL C',\n",
       " ('ABC', 'ABC'): '',\n",
       " ('ABC', 'ABCD'): 'ADD D',\n",
       " ('ABC', 'ABCDF'): 'ADD F',\n",
       " ('ABCC', 'A'): 'DEL C',\n",
       " ('ABCC', 'AB'): 'DEL C',\n",
       " ('ABCC', 'ABC'): 'DEL C',\n",
       " ('ABCC', 'ABCD'): 'SUB C=> D',\n",
       " ('ABCC', 'ABCDF'): 'ADD F',\n",
       " ('ABCCE', 'A'): 'DEL E',\n",
       " ('ABCCE', 'AB'): 'DEL E',\n",
       " ('ABCCE', 'ABC'): 'DEL E',\n",
       " ('ABCCE', 'ABCD'): 'DEL E',\n",
       " ('ABCCE', 'ABCDF'): 'SUB E=> F',\n",
       " ('ABCCEF', 'A'): 'DEL F',\n",
       " ('ABCCEF', 'AB'): 'DEL F',\n",
       " ('ABCCEF', 'ABC'): 'DEL F',\n",
       " ('ABCCEF', 'ABCD'): 'DEL F',\n",
       " ('ABCCEF', 'ABCDF'): '',\n",
       " ('A', 'ABCC'): 'ADD C',\n",
       " ('A', 'ABCCE'): 'ADD E',\n",
       " ('A', 'ABCCEF'): 'ADD F',\n",
       " ('AB', 'ABCC'): 'ADD C',\n",
       " ('AB', 'ABCCE'): 'ADD E',\n",
       " ('AB', 'ABCCEF'): 'ADD F',\n",
       " ('ABC', 'ABCC'): 'ADD C',\n",
       " ('ABC', 'ABCCE'): 'ADD E',\n",
       " ('ABC', 'ABCCEF'): 'ADD F',\n",
       " ('ABCD', 'A'): 'DEL D',\n",
       " ('ABCD', 'AB'): 'DEL D',\n",
       " ('ABCD', 'ABC'): 'DEL D',\n",
       " ('ABCD', 'ABCC'): 'SUB D=> C',\n",
       " ('ABCD', 'ABCCE'): 'ADD E',\n",
       " ('ABCD', 'ABCCEF'): 'ADD F',\n",
       " ('ABCDE', 'A'): 'DEL E',\n",
       " ('ABCDE', 'AB'): 'DEL E',\n",
       " ('ABCDE', 'ABC'): 'DEL E',\n",
       " ('ABCDE', 'ABCC'): 'DEL E',\n",
       " ('ABCDE', 'ABCCE'): '',\n",
       " ('ABCDE', 'ABCCEF'): 'ADD F',\n",
       " ('1', '1'): '',\n",
       " ('1', '11'): 'ADD 1',\n",
       " ('1', '111'): 'ADD 1',\n",
       " ('1', '1110'): 'ADD 0',\n",
       " ('1', '11100'): 'ADD 0',\n",
       " ('10', '1'): 'DEL 0',\n",
       " ('10', '11'): 'SUB 0=> 1',\n",
       " ('10', '111'): 'ADD 1',\n",
       " ('10', '1110'): '',\n",
       " ('10', '11100'): 'ADD 0',\n",
       " ('101', '1'): 'DEL 1',\n",
       " ('101', '11'): '',\n",
       " ('101', '111'): '',\n",
       " ('101', '1110'): 'ADD 0',\n",
       " ('101', '11100'): 'ADD 0',\n",
       " ('1010', '1'): 'DEL 0',\n",
       " ('1010', '11'): 'DEL 0',\n",
       " ('1010', '111'): 'DEL 0',\n",
       " ('1010', '1110'): '',\n",
       " ('1010', '11100'): 'ADD 0',\n",
       " ('b', 'b'): '',\n",
       " ('b', 'bi'): 'ADD i',\n",
       " ('b', 'bie'): 'ADD e',\n",
       " ('b', 'biej'): 'ADD j',\n",
       " ('b', 'bieji'): 'ADD i',\n",
       " ('b', 'biejin'): 'ADD n',\n",
       " ('be', 'b'): 'DEL e',\n",
       " ('be', 'bi'): 'SUB e=> i',\n",
       " ('be', 'bie'): '',\n",
       " ('be', 'biej'): 'ADD j',\n",
       " ('be', 'bieji'): 'ADD i',\n",
       " ('be', 'biejin'): 'ADD n',\n",
       " ('bei', 'b'): 'DEL i',\n",
       " ('bei', 'bi'): '',\n",
       " ('bei', 'bie'): 'DEL i',\n",
       " ('bei', 'biej'): 'SUB i=> j',\n",
       " ('bei', 'bieji'): '',\n",
       " ('bei', 'biejin'): 'ADD n',\n",
       " ('beij', 'b'): 'DEL j',\n",
       " ('beij', 'bi'): 'DEL j',\n",
       " ('beij', 'bie'): 'SUB j=> e',\n",
       " ('beij', 'biej'): '',\n",
       " ('beij', 'bieji'): 'DEL j',\n",
       " ('beij', 'biejin'): 'SUB j=> n',\n",
       " ('beiji', 'b'): 'DEL i',\n",
       " ('beiji', 'bi'): 'DEL i',\n",
       " ('beiji', 'bie'): 'DEL i',\n",
       " ('beiji', 'biej'): 'DEL i',\n",
       " ('beiji', 'bieji'): '',\n",
       " ('beiji', 'biejin'): 'ADD n',\n",
       " ('beijin', 'b'): 'DEL n',\n",
       " ('beijin', 'bi'): 'DEL n',\n",
       " ('beijin', 'bie'): 'DEL n',\n",
       " ('beijin', 'biej'): 'DEL n',\n",
       " ('beijin', 'bieji'): 'DEL n',\n",
       " ('beijin', 'biejin'): '',\n",
       " ('beijing', 'b'): 'DEL g',\n",
       " ('beijing', 'bi'): 'DEL g',\n",
       " ('beijing', 'bie'): 'DEL g',\n",
       " ('beijing', 'biej'): 'DEL g',\n",
       " ('beijing', 'bieji'): 'DEL g',\n",
       " ('beijing', 'biejin'): 'DEL g'}"
      ]
     },
     "execution_count": 77,
     "metadata": {},
     "output_type": "execute_result"
    }
   ],
   "source": [
    "solution"
   ]
  },
  {
   "cell_type": "markdown",
   "metadata": {},
   "source": [
    "# Answer following questions"
   ]
  },
  {
   "cell_type": "markdown",
   "metadata": {},
   "source": [
    "\n",
    "1、Why do we use Derivative / Gredient to fit a target function?\n",
    "Ans:因为导数、梯度指出了损失函数下降最快的方向，加快算法的效率\n",
    "\n",
    "2、In the words 'Gredient Descent', what's the Gredient and what's the Descent?\n",
    "Ans:梯度指的是函数的导数，“下降”指的是使得损失函数下降的方向\n",
    "\n",
    "3、What's the advantages of the 3rd gradient descent method compared to the previous methods?\n",
    "Ans:第三种方向相对于前两种方法，方向是明确的，就是朝着梯度下降的方向，不是随机选择方向，效率更高\n",
    "\n",
    "4、Using the simple words to describe: What's the machine leanring.\n",
    "Ans:有监督：根据数据，不断调参，实现拟合；无监督：寻找数据之间的关系及规律\n",
    "\n",
    "5、Why do we need dynamic programming? What's the difference of dynamic programming and previous talked search problme?\n",
    "Ans:因为动态规划能将一个复杂的问题拆分成一个一个的小问题，先求解小问题的解，再通过不断循环得到复杂问题的解。和之前的搜索方法相比，时间复杂度、空间复杂度较高。\n",
    "\n",
    "6、Why do we still need dynamic programming? Why not we train a machine learning to fit a function which could get the  right answer based on inputs?\n",
    "Ans:因为机器学习不是万能的，对于多变量的监督问题，机器学习适用。但是对于涉及到图论、二叉树中的一些动态规划问题，只能用DP算法。\n",
    "\n",
    "7、Can you catch up at least 3 problems which could solved by Dynamic Programming?\n",
    "Ans:斐波那契数列、编辑距离、最短路径问题\n",
    "\n",
    "8、Can you catch up at least 3 problems wich could sloved by Edit Distance?\n",
    "Ans:判断句子之间的相似度、句子纠错、打字联想\n",
    "\n",
    "9、Please summarize the three main features of Dynamic Programming, and make a concise explain for each feature.\n",
    "Ans:分解为小问题、复杂度高、树形结构\n",
    "\n",
    "10、What's the disadvantages of Dynamic Programming? (You may need search by yourself in Internet)\n",
    "Ans:时间复杂度、空间复杂度可能会很高"
   ]
  },
  {
   "cell_type": "code",
   "execution_count": null,
   "metadata": {},
   "outputs": [],
   "source": []
  }
 ],
 "metadata": {
  "kernelspec": {
   "display_name": "Python 3",
   "language": "python",
   "name": "python3"
  },
  "language_info": {
   "codemirror_mode": {
    "name": "ipython",
    "version": 3
   },
   "file_extension": ".py",
   "mimetype": "text/x-python",
   "name": "python",
   "nbconvert_exporter": "python",
   "pygments_lexer": "ipython3",
   "version": "3.7.1"
  }
 },
 "nbformat": 4,
 "nbformat_minor": 2
}
