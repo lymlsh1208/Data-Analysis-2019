{
 "cells": [
  {
   "cell_type": "markdown",
   "metadata": {},
   "source": [
    "0.三个人工智能的场景：机器翻译、人脸识别门禁系统、小爱同学\n",
    "\n",
    "1.Github是一个分布式的代码共享平台。我们把自己的代码共享到github上所有人都能看到，也可以对其进行提交修改。 Jupyter是一个是一个交互式的笔记本，能及时地显示出结果，对于教学、数值模拟、图形绘制来说，比较实用。Pycharm是一个开发平台，可以用于开发大型Python程序。\n",
    "\n",
    "2.概率模型是用来衡量几个变量之间的概率关系，分析变量间的相互影响。常见的有贝叶斯概率模型，高斯分布。\n",
    "\n",
    "3.人类的身高分布、掷骰子的命中率\n",
    "\n",
    "4.因为在机器学习中，相邻像素是有关系的，相邻的单词之间也是有关系的，互相影响。解析过程中的难点在于，图像识别是统计+对比的过程，然而在语言处理方面，语言饱含丰富的内涵，让机器理解并非易事。\n",
    "\n",
    "5.语言模型指的是给定的词序列在语言中的概率分布，给定的词序列可以是一个词、两个词、三个词···分别对应一元模型、二元模型、三元模型。\n",
    "\n",
    "6.语言模型可以用于信息搜索\n",
    "\n",
    "7. 一元模型指的是一个单词在语言中的概率分布。\n",
    "\n",
    "8.一元模型分得很精细，可以剔除一些无关的词语或者符号；但是也存在一些缺点，比如对上下文意思没有理解。\n",
    "\n",
    "9. 二元模型指的是前后两个词在语言中的概率分布。"
   ]
  },
  {
   "cell_type": "code",
   "execution_count": null,
   "metadata": {},
   "outputs": [],
   "source": []
  }
 ],
 "metadata": {
  "kernelspec": {
   "display_name": "Python 3",
   "language": "python",
   "name": "python3"
  },
  "language_info": {
   "codemirror_mode": {
    "name": "ipython",
    "version": 3
   },
   "file_extension": ".py",
   "mimetype": "text/x-python",
   "name": "python",
   "nbconvert_exporter": "python",
   "pygments_lexer": "ipython3",
   "version": "3.7.1"
  }
 },
 "nbformat": 4,
 "nbformat_minor": 2
}
